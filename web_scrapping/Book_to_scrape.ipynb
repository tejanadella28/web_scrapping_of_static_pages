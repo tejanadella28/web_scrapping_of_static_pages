{
 "cells": [
  {
   "cell_type": "code",
   "execution_count": 1,
   "id": "9680d0e1-803a-4c51-8822-bf4d5421d061",
   "metadata": {},
   "outputs": [],
   "source": [
    "import requests\n",
    "from bs4 import BeautifulSoup"
   ]
  },
  {
   "cell_type": "code",
   "execution_count": 14,
   "id": "af3e6adc-17d7-42bc-b98b-7d1f7d201b82",
   "metadata": {},
   "outputs": [],
   "source": [
    "link = \"https://books.toscrape.com/catalogue/page-1.html\"\n",
    "res = requests.get(link)\n",
    "soup = BeautifulSoup(res.text , 'html.parser')"
   ]
  },
  {
   "cell_type": "code",
   "execution_count": 16,
   "id": "cdf1ff4d-44c0-4664-971c-dcf2a66a0ea2",
   "metadata": {},
   "outputs": [],
   "source": [
    "data = []\n",
    "for sp in soup.find_all('li' , class_= 'col-xs-6 col-sm-4 col-md-3 col-lg-3'):\n",
    "    \n",
    "    book_link = 'https://books.toscrape.com/catalogue/' + sp.find_all('a')[-1].get('href')\n",
    "    img_link  =  'https://books.toscrape.com/' +  sp.find('img').get('src')[3:]\n",
    "    title   =     sp.find_all('a')[-1].get('title')\n",
    "    rating  =     sp.find('p').get('class')[1]\n",
    "    cost    =     sp.find('p' ,  class_ = \"price_color\").text[1:-1]\n",
    "    sock    =     sp.find('p' ,  class_ = \"instock availability\").text.strip()\n",
    "    data.append([title,rating,cost,sock,book_link,img_link])"
   ]
  },
  {
   "cell_type": "code",
   "execution_count": 18,
   "id": "b6e59c1d-96a4-44de-a5a3-75dde38937d4",
   "metadata": {},
   "outputs": [
    {
     "data": {
      "text/plain": [
       "[['A Light in the Attic',\n",
       "  'Three',\n",
       "  '£51.7',\n",
       "  'In stock',\n",
       "  'https://books.toscrape.com/catalogue/a-light-in-the-attic_1000/index.html',\n",
       "  'https://books.toscrape.com/media/cache/2c/da/2cdad67c44b002e7ead0cc35693c0e8b.jpg'],\n",
       " ['Tipping the Velvet',\n",
       "  'One',\n",
       "  '£53.7',\n",
       "  'In stock',\n",
       "  'https://books.toscrape.com/catalogue/tipping-the-velvet_999/index.html',\n",
       "  'https://books.toscrape.com/media/cache/26/0c/260c6ae16bce31c8f8c95daddd9f4a1c.jpg'],\n",
       " ['Soumission',\n",
       "  'One',\n",
       "  '£50.1',\n",
       "  'In stock',\n",
       "  'https://books.toscrape.com/catalogue/soumission_998/index.html',\n",
       "  'https://books.toscrape.com/media/cache/3e/ef/3eef99c9d9adef34639f510662022830.jpg'],\n",
       " ['Sharp Objects',\n",
       "  'Four',\n",
       "  '£47.8',\n",
       "  'In stock',\n",
       "  'https://books.toscrape.com/catalogue/sharp-objects_997/index.html',\n",
       "  'https://books.toscrape.com/media/cache/32/51/3251cf3a3412f53f339e42cac2134093.jpg'],\n",
       " ['Sapiens: A Brief History of Humankind',\n",
       "  'Five',\n",
       "  '£54.2',\n",
       "  'In stock',\n",
       "  'https://books.toscrape.com/catalogue/sapiens-a-brief-history-of-humankind_996/index.html',\n",
       "  'https://books.toscrape.com/media/cache/be/a5/bea5697f2534a2f86a3ef27b5a8c12a6.jpg'],\n",
       " ['The Requiem Red',\n",
       "  'One',\n",
       "  '£22.6',\n",
       "  'In stock',\n",
       "  'https://books.toscrape.com/catalogue/the-requiem-red_995/index.html',\n",
       "  'https://books.toscrape.com/media/cache/68/33/68339b4c9bc034267e1da611ab3b34f8.jpg'],\n",
       " ['The Dirty Little Secrets of Getting Your Dream Job',\n",
       "  'Four',\n",
       "  '£33.3',\n",
       "  'In stock',\n",
       "  'https://books.toscrape.com/catalogue/the-dirty-little-secrets-of-getting-your-dream-job_994/index.html',\n",
       "  'https://books.toscrape.com/media/cache/92/27/92274a95b7c251fea59a2b8a78275ab4.jpg'],\n",
       " ['The Coming Woman: A Novel Based on the Life of the Infamous Feminist, Victoria Woodhull',\n",
       "  'Three',\n",
       "  '£17.9',\n",
       "  'In stock',\n",
       "  'https://books.toscrape.com/catalogue/the-coming-woman-a-novel-based-on-the-life-of-the-infamous-feminist-victoria-woodhull_993/index.html',\n",
       "  'https://books.toscrape.com/media/cache/3d/54/3d54940e57e662c4dd1f3ff00c78cc64.jpg'],\n",
       " ['The Boys in the Boat: Nine Americans and Their Epic Quest for Gold at the 1936 Berlin Olympics',\n",
       "  'Four',\n",
       "  '£22.6',\n",
       "  'In stock',\n",
       "  'https://books.toscrape.com/catalogue/the-boys-in-the-boat-nine-americans-and-their-epic-quest-for-gold-at-the-1936-berlin-olympics_992/index.html',\n",
       "  'https://books.toscrape.com/media/cache/66/88/66883b91f6804b2323c8369331cb7dd1.jpg'],\n",
       " ['The Black Maria',\n",
       "  'One',\n",
       "  '£52.1',\n",
       "  'In stock',\n",
       "  'https://books.toscrape.com/catalogue/the-black-maria_991/index.html',\n",
       "  'https://books.toscrape.com/media/cache/58/46/5846057e28022268153beff6d352b06c.jpg'],\n",
       " ['Starving Hearts (Triangular Trade Trilogy, #1)',\n",
       "  'Two',\n",
       "  '£13.9',\n",
       "  'In stock',\n",
       "  'https://books.toscrape.com/catalogue/starving-hearts-triangular-trade-trilogy-1_990/index.html',\n",
       "  'https://books.toscrape.com/media/cache/be/f4/bef44da28c98f905a3ebec0b87be8530.jpg'],\n",
       " [\"Shakespeare's Sonnets\",\n",
       "  'Four',\n",
       "  '£20.6',\n",
       "  'In stock',\n",
       "  'https://books.toscrape.com/catalogue/shakespeares-sonnets_989/index.html',\n",
       "  'https://books.toscrape.com/media/cache/10/48/1048f63d3b5061cd2f424d20b3f9b666.jpg'],\n",
       " ['Set Me Free',\n",
       "  'Five',\n",
       "  '£17.4',\n",
       "  'In stock',\n",
       "  'https://books.toscrape.com/catalogue/set-me-free_988/index.html',\n",
       "  'https://books.toscrape.com/media/cache/5b/88/5b88c52633f53cacf162c15f4f823153.jpg'],\n",
       " [\"Scott Pilgrim's Precious Little Life (Scott Pilgrim #1)\",\n",
       "  'Five',\n",
       "  '£52.2',\n",
       "  'In stock',\n",
       "  'https://books.toscrape.com/catalogue/scott-pilgrims-precious-little-life-scott-pilgrim-1_987/index.html',\n",
       "  'https://books.toscrape.com/media/cache/94/b1/94b1b8b244bce9677c2f29ccc890d4d2.jpg'],\n",
       " ['Rip it Up and Start Again',\n",
       "  'Five',\n",
       "  '£35.0',\n",
       "  'In stock',\n",
       "  'https://books.toscrape.com/catalogue/rip-it-up-and-start-again_986/index.html',\n",
       "  'https://books.toscrape.com/media/cache/81/c4/81c4a973364e17d01f217e1188253d5e.jpg'],\n",
       " ['Our Band Could Be Your Life: Scenes from the American Indie Underground, 1981-1991',\n",
       "  'Three',\n",
       "  '£57.2',\n",
       "  'In stock',\n",
       "  'https://books.toscrape.com/catalogue/our-band-could-be-your-life-scenes-from-the-american-indie-underground-1981-1991_985/index.html',\n",
       "  'https://books.toscrape.com/media/cache/54/60/54607fe8945897cdcced0044103b10b6.jpg'],\n",
       " ['Olio',\n",
       "  'One',\n",
       "  '£23.8',\n",
       "  'In stock',\n",
       "  'https://books.toscrape.com/catalogue/olio_984/index.html',\n",
       "  'https://books.toscrape.com/media/cache/55/33/553310a7162dfbc2c6d19a84da0df9e1.jpg'],\n",
       " ['Mesaerion: The Best Science Fiction Stories 1800-1849',\n",
       "  'One',\n",
       "  '£37.5',\n",
       "  'In stock',\n",
       "  'https://books.toscrape.com/catalogue/mesaerion-the-best-science-fiction-stories-1800-1849_983/index.html',\n",
       "  'https://books.toscrape.com/media/cache/09/a3/09a3aef48557576e1a85ba7efea8ecb7.jpg'],\n",
       " ['Libertarianism for Beginners',\n",
       "  'Two',\n",
       "  '£51.3',\n",
       "  'In stock',\n",
       "  'https://books.toscrape.com/catalogue/libertarianism-for-beginners_982/index.html',\n",
       "  'https://books.toscrape.com/media/cache/0b/bc/0bbcd0a6f4bcd81ccb1049a52736406e.jpg'],\n",
       " [\"It's Only the Himalayas\",\n",
       "  'Two',\n",
       "  '£45.1',\n",
       "  'In stock',\n",
       "  'https://books.toscrape.com/catalogue/its-only-the-himalayas_981/index.html',\n",
       "  'https://books.toscrape.com/media/cache/27/a5/27a53d0bb95bdd88288eaf66c9230d7e.jpg']]"
      ]
     },
     "execution_count": 18,
     "metadata": {},
     "output_type": "execute_result"
    }
   ],
   "source": [
    "data"
   ]
  },
  {
   "cell_type": "code",
   "execution_count": 20,
   "id": "cde37351-52aa-4c61-9eaf-66bd697f6448",
   "metadata": {},
   "outputs": [
    {
     "data": {
      "text/plain": [
       "'https://books.toscrape.com/catalogue/page-1.html'"
      ]
     },
     "execution_count": 20,
     "metadata": {},
     "output_type": "execute_result"
    }
   ],
   "source": [
    "link"
   ]
  },
  {
   "cell_type": "code",
   "execution_count": 22,
   "id": "5ca65a2e-02dc-4d7f-b134-4f42174824c2",
   "metadata": {},
   "outputs": [],
   "source": [
    "## now for all pages data to be collected"
   ]
  },
  {
   "cell_type": "code",
   "execution_count": 24,
   "id": "867f7014-c97b-40b6-8e1c-59f088b8a11a",
   "metadata": {},
   "outputs": [],
   "source": [
    "from tqdm import tqdm"
   ]
  },
  {
   "cell_type": "code",
   "execution_count": 26,
   "id": "471e579e-7530-4659-af5c-4d14e3d2238e",
   "metadata": {},
   "outputs": [
    {
     "name": "stderr",
     "output_type": "stream",
     "text": [
      "100%|██████████████████████████████████████████████████████████████████████████████████| 50/50 [01:22<00:00,  1.65s/it]\n"
     ]
    }
   ],
   "source": [
    "data = []\n",
    "for i in tqdm(range(1,51)):\n",
    "    link = 'https://books.toscrape.com/catalogue/page-' + str(i) + '.html'\n",
    "    res = requests.get(link)\n",
    "    soup = BeautifulSoup(res.text, 'html.parser')\n",
    "    \n",
    "    for sp in soup.find_all('li' , class_= 'col-xs-6 col-sm-4 col-md-3 col-lg-3'):\n",
    "    \n",
    "        book_link = 'https://books.toscrape.com/catalogue/' + sp.find_all('a')[-1].get('href')\n",
    "        img_link  =  'https://books.toscrape.com/' +  sp.find('img').get('src')[3:]\n",
    "        title   =     sp.find_all('a')[-1].get('title')\n",
    "        rating  =     sp.find('p').get('class')[1]\n",
    "        cost    =     sp.find('p' ,  class_ = \"price_color\").text[1:-1]\n",
    "        sock    =     sp.find('p' ,  class_ = \"instock availability\").text.strip()\n",
    "        data.append([title,rating,cost,sock,book_link,img_link])"
   ]
  },
  {
   "cell_type": "code",
   "execution_count": 27,
   "id": "e867c0ff-8f09-4561-af0a-e99323628e47",
   "metadata": {},
   "outputs": [],
   "source": [
    "import pandas as pd"
   ]
  },
  {
   "cell_type": "code",
   "execution_count": 28,
   "id": "c1135ae4-8e77-4c6d-8ddf-178bbad331da",
   "metadata": {},
   "outputs": [],
   "source": [
    "df = pd.DataFrame(data , columns = ['title', 'rating' , 'cost' , 'stock' , 'book_link' , 'img_link'])"
   ]
  },
  {
   "cell_type": "code",
   "execution_count": 32,
   "id": "a88df2d4-e818-4378-9e56-6adad3d9bee5",
   "metadata": {},
   "outputs": [
    {
     "data": {
      "text/html": [
       "<div>\n",
       "<style scoped>\n",
       "    .dataframe tbody tr th:only-of-type {\n",
       "        vertical-align: middle;\n",
       "    }\n",
       "\n",
       "    .dataframe tbody tr th {\n",
       "        vertical-align: top;\n",
       "    }\n",
       "\n",
       "    .dataframe thead th {\n",
       "        text-align: right;\n",
       "    }\n",
       "</style>\n",
       "<table border=\"1\" class=\"dataframe\">\n",
       "  <thead>\n",
       "    <tr style=\"text-align: right;\">\n",
       "      <th></th>\n",
       "      <th>title</th>\n",
       "      <th>rating</th>\n",
       "      <th>cost</th>\n",
       "      <th>stock</th>\n",
       "      <th>book_link</th>\n",
       "      <th>img_link</th>\n",
       "    </tr>\n",
       "  </thead>\n",
       "  <tbody>\n",
       "    <tr>\n",
       "      <th>0</th>\n",
       "      <td>A Light in the Attic</td>\n",
       "      <td>Three</td>\n",
       "      <td>£51.7</td>\n",
       "      <td>In stock</td>\n",
       "      <td>https://books.toscrape.com/catalogue/a-light-i...</td>\n",
       "      <td>https://books.toscrape.com/media/cache/2c/da/2...</td>\n",
       "    </tr>\n",
       "    <tr>\n",
       "      <th>1</th>\n",
       "      <td>Tipping the Velvet</td>\n",
       "      <td>One</td>\n",
       "      <td>£53.7</td>\n",
       "      <td>In stock</td>\n",
       "      <td>https://books.toscrape.com/catalogue/tipping-t...</td>\n",
       "      <td>https://books.toscrape.com/media/cache/26/0c/2...</td>\n",
       "    </tr>\n",
       "    <tr>\n",
       "      <th>2</th>\n",
       "      <td>Soumission</td>\n",
       "      <td>One</td>\n",
       "      <td>£50.1</td>\n",
       "      <td>In stock</td>\n",
       "      <td>https://books.toscrape.com/catalogue/soumissio...</td>\n",
       "      <td>https://books.toscrape.com/media/cache/3e/ef/3...</td>\n",
       "    </tr>\n",
       "    <tr>\n",
       "      <th>3</th>\n",
       "      <td>Sharp Objects</td>\n",
       "      <td>Four</td>\n",
       "      <td>£47.8</td>\n",
       "      <td>In stock</td>\n",
       "      <td>https://books.toscrape.com/catalogue/sharp-obj...</td>\n",
       "      <td>https://books.toscrape.com/media/cache/32/51/3...</td>\n",
       "    </tr>\n",
       "    <tr>\n",
       "      <th>4</th>\n",
       "      <td>Sapiens: A Brief History of Humankind</td>\n",
       "      <td>Five</td>\n",
       "      <td>£54.2</td>\n",
       "      <td>In stock</td>\n",
       "      <td>https://books.toscrape.com/catalogue/sapiens-a...</td>\n",
       "      <td>https://books.toscrape.com/media/cache/be/a5/b...</td>\n",
       "    </tr>\n",
       "  </tbody>\n",
       "</table>\n",
       "</div>"
      ],
      "text/plain": [
       "                                   title rating   cost     stock  \\\n",
       "0                   A Light in the Attic  Three  £51.7  In stock   \n",
       "1                     Tipping the Velvet    One  £53.7  In stock   \n",
       "2                             Soumission    One  £50.1  In stock   \n",
       "3                          Sharp Objects   Four  £47.8  In stock   \n",
       "4  Sapiens: A Brief History of Humankind   Five  £54.2  In stock   \n",
       "\n",
       "                                           book_link  \\\n",
       "0  https://books.toscrape.com/catalogue/a-light-i...   \n",
       "1  https://books.toscrape.com/catalogue/tipping-t...   \n",
       "2  https://books.toscrape.com/catalogue/soumissio...   \n",
       "3  https://books.toscrape.com/catalogue/sharp-obj...   \n",
       "4  https://books.toscrape.com/catalogue/sapiens-a...   \n",
       "\n",
       "                                            img_link  \n",
       "0  https://books.toscrape.com/media/cache/2c/da/2...  \n",
       "1  https://books.toscrape.com/media/cache/26/0c/2...  \n",
       "2  https://books.toscrape.com/media/cache/3e/ef/3...  \n",
       "3  https://books.toscrape.com/media/cache/32/51/3...  \n",
       "4  https://books.toscrape.com/media/cache/be/a5/b...  "
      ]
     },
     "execution_count": 32,
     "metadata": {},
     "output_type": "execute_result"
    }
   ],
   "source": [
    "df.head()"
   ]
  },
  {
   "cell_type": "markdown",
   "id": "dc809ee8-d890-448f-9ce8-861e9e69d832",
   "metadata": {},
   "source": [
    "## now finding the data each book seperate "
   ]
  },
  {
   "cell_type": "code",
   "execution_count": 34,
   "id": "1ad740c9-6ad3-40b7-b533-139b8860f9eb",
   "metadata": {},
   "outputs": [],
   "source": [
    "df.to_csv('book.csv',index = False)"
   ]
  },
  {
   "cell_type": "code",
   "execution_count": 36,
   "id": "2866234d-e5b7-42f0-8829-980938d26404",
   "metadata": {},
   "outputs": [],
   "source": [
    "df1 = pd.read_csv('book.csv')"
   ]
  },
  {
   "cell_type": "code",
   "execution_count": 38,
   "id": "fa2780fe-f194-4402-b01f-b67a4e6f0e14",
   "metadata": {},
   "outputs": [
    {
     "data": {
      "text/html": [
       "<div>\n",
       "<style scoped>\n",
       "    .dataframe tbody tr th:only-of-type {\n",
       "        vertical-align: middle;\n",
       "    }\n",
       "\n",
       "    .dataframe tbody tr th {\n",
       "        vertical-align: top;\n",
       "    }\n",
       "\n",
       "    .dataframe thead th {\n",
       "        text-align: right;\n",
       "    }\n",
       "</style>\n",
       "<table border=\"1\" class=\"dataframe\">\n",
       "  <thead>\n",
       "    <tr style=\"text-align: right;\">\n",
       "      <th></th>\n",
       "      <th>title</th>\n",
       "      <th>rating</th>\n",
       "      <th>cost</th>\n",
       "      <th>stock</th>\n",
       "      <th>book_link</th>\n",
       "      <th>img_link</th>\n",
       "    </tr>\n",
       "  </thead>\n",
       "  <tbody>\n",
       "    <tr>\n",
       "      <th>0</th>\n",
       "      <td>A Light in the Attic</td>\n",
       "      <td>Three</td>\n",
       "      <td>£51.7</td>\n",
       "      <td>In stock</td>\n",
       "      <td>https://books.toscrape.com/catalogue/a-light-i...</td>\n",
       "      <td>https://books.toscrape.com/media/cache/2c/da/2...</td>\n",
       "    </tr>\n",
       "    <tr>\n",
       "      <th>1</th>\n",
       "      <td>Tipping the Velvet</td>\n",
       "      <td>One</td>\n",
       "      <td>£53.7</td>\n",
       "      <td>In stock</td>\n",
       "      <td>https://books.toscrape.com/catalogue/tipping-t...</td>\n",
       "      <td>https://books.toscrape.com/media/cache/26/0c/2...</td>\n",
       "    </tr>\n",
       "    <tr>\n",
       "      <th>2</th>\n",
       "      <td>Soumission</td>\n",
       "      <td>One</td>\n",
       "      <td>£50.1</td>\n",
       "      <td>In stock</td>\n",
       "      <td>https://books.toscrape.com/catalogue/soumissio...</td>\n",
       "      <td>https://books.toscrape.com/media/cache/3e/ef/3...</td>\n",
       "    </tr>\n",
       "    <tr>\n",
       "      <th>3</th>\n",
       "      <td>Sharp Objects</td>\n",
       "      <td>Four</td>\n",
       "      <td>£47.8</td>\n",
       "      <td>In stock</td>\n",
       "      <td>https://books.toscrape.com/catalogue/sharp-obj...</td>\n",
       "      <td>https://books.toscrape.com/media/cache/32/51/3...</td>\n",
       "    </tr>\n",
       "    <tr>\n",
       "      <th>4</th>\n",
       "      <td>Sapiens: A Brief History of Humankind</td>\n",
       "      <td>Five</td>\n",
       "      <td>£54.2</td>\n",
       "      <td>In stock</td>\n",
       "      <td>https://books.toscrape.com/catalogue/sapiens-a...</td>\n",
       "      <td>https://books.toscrape.com/media/cache/be/a5/b...</td>\n",
       "    </tr>\n",
       "  </tbody>\n",
       "</table>\n",
       "</div>"
      ],
      "text/plain": [
       "                                   title rating   cost     stock  \\\n",
       "0                   A Light in the Attic  Three  £51.7  In stock   \n",
       "1                     Tipping the Velvet    One  £53.7  In stock   \n",
       "2                             Soumission    One  £50.1  In stock   \n",
       "3                          Sharp Objects   Four  £47.8  In stock   \n",
       "4  Sapiens: A Brief History of Humankind   Five  £54.2  In stock   \n",
       "\n",
       "                                           book_link  \\\n",
       "0  https://books.toscrape.com/catalogue/a-light-i...   \n",
       "1  https://books.toscrape.com/catalogue/tipping-t...   \n",
       "2  https://books.toscrape.com/catalogue/soumissio...   \n",
       "3  https://books.toscrape.com/catalogue/sharp-obj...   \n",
       "4  https://books.toscrape.com/catalogue/sapiens-a...   \n",
       "\n",
       "                                            img_link  \n",
       "0  https://books.toscrape.com/media/cache/2c/da/2...  \n",
       "1  https://books.toscrape.com/media/cache/26/0c/2...  \n",
       "2  https://books.toscrape.com/media/cache/3e/ef/3...  \n",
       "3  https://books.toscrape.com/media/cache/32/51/3...  \n",
       "4  https://books.toscrape.com/media/cache/be/a5/b...  "
      ]
     },
     "execution_count": 38,
     "metadata": {},
     "output_type": "execute_result"
    }
   ],
   "source": [
    "df1.head()"
   ]
  },
  {
   "cell_type": "code",
   "execution_count": 40,
   "id": "7814c60a-4b8b-4db3-9636-07336046414c",
   "metadata": {},
   "outputs": [
    {
     "name": "stderr",
     "output_type": "stream",
     "text": [
      "100%|██████████████████████████████████████████████████████████████████████████████| 1000/1000 [18:29<00:00,  1.11s/it]\n"
     ]
    }
   ],
   "source": [
    "data = []\n",
    "\n",
    "for link in tqdm(df1['book_link']):\n",
    "    \n",
    "    res = requests.get(link)\n",
    "    soup = BeautifulSoup(res.text, 'html.parser')\n",
    "    \n",
    "    typ = soup.find('ul', class_ = 'breadcrumb').find_all('a')[2].text\n",
    "    \n",
    "    temp = soup.find('table', class_ = 'table table-striped').find_all('td')\n",
    "    \n",
    "    upc      = temp[0].text\n",
    "    price_x  = temp[2].text[2:]\n",
    "    price_i  = temp[3].text[2:]\n",
    "    tax      = temp[4].text[2:]\n",
    "    qn       = temp[5].text\n",
    "    reviews  = temp[6].text\n",
    "    \n",
    "    data.append([typ, price_x, price_i, tax, qn, upc, reviews])"
   ]
  },
  {
   "cell_type": "code",
   "execution_count": 46,
   "id": "36d92e78-7887-4e93-aff7-0d72fed77fc0",
   "metadata": {},
   "outputs": [],
   "source": [
    "df2 = pd.DataFrame(data , columns=[\"typ\" , 'upc' , 'price_x' , 'price_i' ,'tax','qn','reviews'])"
   ]
  },
  {
   "cell_type": "code",
   "execution_count": 48,
   "id": "3cd109fc-0af6-4754-97be-81debd87468f",
   "metadata": {},
   "outputs": [],
   "source": [
    "df2.to_csv('data.csv' , index = False)"
   ]
  },
  {
   "cell_type": "code",
   "execution_count": null,
   "id": "b6658ca8-9dbd-4d50-af1c-0e068c85d9ca",
   "metadata": {},
   "outputs": [],
   "source": []
  }
 ],
 "metadata": {
  "kernelspec": {
   "display_name": "Python 3 (ipykernel)",
   "language": "python",
   "name": "python3"
  },
  "language_info": {
   "codemirror_mode": {
    "name": "ipython",
    "version": 3
   },
   "file_extension": ".py",
   "mimetype": "text/x-python",
   "name": "python",
   "nbconvert_exporter": "python",
   "pygments_lexer": "ipython3",
   "version": "3.12.4"
  }
 },
 "nbformat": 4,
 "nbformat_minor": 5
}
